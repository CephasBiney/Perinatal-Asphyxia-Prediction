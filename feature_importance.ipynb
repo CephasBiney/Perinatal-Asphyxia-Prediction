{
 "cells": [
  {
   "cell_type": "code",
   "execution_count": null,
   "id": "4461cb5f",
   "metadata": {},
   "outputs": [],
   "source": [
    "# Title: Feature Importance for Prediction of Perinatal Asphyxia\n",
    "# Author: Cephas Ekow Biney\n",
    "# Institution: Kwame Nkrumah University of Science and Technology (KNUST)\n",
    "# Date: 6th October, 2025.\n",
    "# Description: \n",
    "#               This notebook shows the contributions of each of the predictors\n",
    "#               or features to the performance of the model."
   ]
  },
  {
   "cell_type": "code",
   "execution_count": null,
   "id": "46d3055f",
   "metadata": {},
   "outputs": [],
   "source": [
    "#Library Used\n",
    "\n",
    "import matplotlib.pyplot as plt\n",
    "import pandas as pd"
   ]
  },
  {
   "cell_type": "code",
   "execution_count": null,
   "id": "5a02d36e",
   "metadata": {},
   "outputs": [],
   "source": []
  },
  {
   "cell_type": "code",
   "execution_count": null,
   "id": "04b0ce93",
   "metadata": {},
   "outputs": [],
   "source": []
  }
 ],
 "metadata": {
  "language_info": {
   "name": "python"
  }
 },
 "nbformat": 4,
 "nbformat_minor": 5
}
