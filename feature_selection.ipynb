{
 "cells": [
  {
   "cell_type": "code",
   "execution_count": null,
   "id": "9466ebd8",
   "metadata": {},
   "outputs": [],
   "source": [
    "# Title: Feature Selection for Prediction of Perinatal Asphyxia\n",
    "# Author: Cephas Ekow Biney\n",
    "# Institution: Kwame Nkrumah University of Science and Technology (KNUST)\n",
    "# Date: 6th October, 2025.\n",
    "# Description: \n",
    "#               This notebook demonstrates the application of feature selection\n",
    "#               techniques-SelectKBest and Recursive Feature Elimination (RFE)-to\n",
    "#               identify the most predictive variables for perinatal asphyxia using cleaned\n",
    "#               neonatal data."
   ]
  },
  {
   "cell_type": "code",
   "execution_count": null,
   "id": "286f0ee7",
   "metadata": {},
   "outputs": [],
   "source": [
    "# Libraries Used\n",
    "import pandas as pd\n",
    "import numpy as np\n",
    "import matplotlib.pyplot as plt\n",
    "from sklearn.linear_model import LogisticRegression\n",
    "from sklearn.model_selection import train_test_split, cross_val_score\n",
    "from sklearn.feature_selection import f_classif, SelectKBest, RFE"
   ]
  },
  {
   "cell_type": "code",
   "execution_count": 9,
   "id": "196dc079",
   "metadata": {},
   "outputs": [],
   "source": [
    "# Loading Preprocessed Data \n",
    "#data = pd.read_csv(\"cleaned_data.csv\")\n",
    "data = pd.read_csv(\"~/Desktop/New set/cleaned_data.csv\")\n",
    "\n",
    "# Defining Features and Targets\n",
    "X = data.drop([\"birth_asphyxia\"], axis=1)\n",
    "y = data[\"birth_asphyxia\"]"
   ]
  },
  {
   "cell_type": "code",
   "execution_count": null,
   "id": "f744be5d",
   "metadata": {},
   "outputs": [],
   "source": [
    "# Splitting Data into Train and Test Sets\n",
    "X_train1, X_test1, y_train1, y_test1 = train_test_split(X,y, test_size=0.2, random_state=42)"
   ]
  },
  {
   "cell_type": "code",
   "execution_count": null,
   "id": "3048d548",
   "metadata": {},
   "outputs": [
    {
     "name": "stdout",
     "output_type": "stream",
     "text": [
      "\n",
      "Top Features selected by SelectKBest:\n",
      "                       Feature     F-value       P-value\n",
      "8          labor_complications  142.345367  1.701609e-31\n",
      "10    status_of_amniotic_fluid   86.125738  5.313903e-20\n",
      "11       presentation_of_fetus   56.766462  8.171214e-14\n",
      "2   gestational_age (in weeks)   21.182521  4.505510e-06\n",
      "9                         PROM   20.487556  6.446029e-06\n",
      "4          Placental_anomalies   14.258445  1.651786e-04\n",
      "0        maternal_age (in yrs)    8.253190  4.121770e-03\n",
      "1          birth_weight (in g)    4.257169  3.924621e-02\n",
      "7     illness_during_pregnancy    3.150430  7.609727e-02\n",
      "12      maternal_comorbidities    2.319145  1.279881e-01\n",
      "6                       parity    1.239609  2.657139e-01\n",
      "3              delivery_method    0.898019  3.434568e-01\n",
      "5                 sex_of_fetus    0.378240  5.386342e-01\n"
     ]
    }
   ],
   "source": [
    "# Feature Selection Using SelectKBest\n",
    "# This technique ranks features by statistical significance. Since dataset\n",
    "# contains both numeric and categorical variables,\n",
    "# ANOVA was used.\n",
    "\n",
    "selector = SelectKBest(score_func=f_classif, k=8)\n",
    "X_new = selector.fit_transform(X_train1, y_train1)\n",
    "\n",
    "selected_features = X_train1.columns[selector.get_support(indices=True)]\n",
    "\n",
    "# Get F-values and p-values\n",
    "F_scores = selector.scores_\n",
    "pvalues = selector.pvalues_\n",
    "\n",
    "# Create a DataFrame to display F-values and p-values\n",
    "results_df = pd.DataFrame({'Feature': X.columns, 'F-value': F_scores, 'P-value': pvalues})\n",
    "results_df.sort_values(by='P-value', ascending=True, inplace=True)\n",
    "\n",
    "print(\"\\nTop Features selected by SelectKBest:\")\n",
    "print(results_df)"
   ]
  },
  {
   "cell_type": "code",
   "execution_count": null,
   "id": "f3148f43",
   "metadata": {},
   "outputs": [
    {
     "name": "stdout",
     "output_type": "stream",
     "text": [
      "Feature Ranking:\n",
      "                       Feature  Rank\n",
      "0        maternal_age (in yrs)     1\n",
      "2   gestational_age (in weeks)     1\n",
      "3              delivery_method     1\n",
      "4          Placental_anomalies     1\n",
      "5                 sex_of_fetus     1\n",
      "6                       parity     1\n",
      "7     illness_during_pregnancy     1\n",
      "8          labor_complications     1\n",
      "9                         PROM     1\n",
      "10    status_of_amniotic_fluid     1\n",
      "11       presentation_of_fetus     1\n",
      "12      maternal_comorbidities     1\n",
      "1          birth_weight (in g)     2\n",
      "Mean cross-validation accuracy with top 9 features: 0.6935\n"
     ]
    }
   ],
   "source": [
    "# Feature Selection Using RFE\n",
    "# This technique iteratively removes least important features based\n",
    "# on model coefficients (Logistic Regression here)\n",
    "\n",
    "base_model = LogisticRegression(max_iter=500)\n",
    "rfe = RFE(estimator=base_model, n_features_to_select=12)\n",
    "rfe.fit(X_train1, y_train1)\n",
    "\n",
    "rfe_features = X_train1.columns[rfe.support_]\n",
    "\n",
    "# Get ranking of features (lower rank means more important)\n",
    "ranking = rfe.ranking_\n",
    "\n",
    "# Create a DataFrame to display feature ranking\n",
    "feature_ranking = pd.DataFrame({'Feature': X.columns, 'Rank': ranking})\n",
    "feature_ranking = feature_ranking.sort_values(by='Rank')\n",
    "\n",
    "\n",
    "# 1 means most important\n",
    "print(\"Feature Ranking:\")\n",
    "print(feature_ranking)\n",
    "\n",
    "# Selecting the top k features\n",
    "k = 9  # Adjust this to select the top k features\n",
    "X_selected = X.loc[:, rfe.support_]\n",
    "\n",
    "# Optionally, use cross-validation to evaluate model performance with selected features\n",
    "scores = cross_val_score(base_model, X_selected, y, cv=10)  # 5-fold cross-validation\n",
    "print(f\"Mean cross-validation accuracy with top {k} features: {scores.mean()}\")"
   ]
  },
  {
   "cell_type": "code",
   "execution_count": null,
   "id": "b0c6f0b8",
   "metadata": {},
   "outputs": [],
   "source": []
  }
 ],
 "metadata": {
  "kernelspec": {
   "display_name": "compbio",
   "language": "python",
   "name": "python3"
  },
  "language_info": {
   "codemirror_mode": {
    "name": "ipython",
    "version": 3
   },
   "file_extension": ".py",
   "mimetype": "text/x-python",
   "name": "python",
   "nbconvert_exporter": "python",
   "pygments_lexer": "ipython3",
   "version": "3.10.12"
  }
 },
 "nbformat": 4,
 "nbformat_minor": 5
}
