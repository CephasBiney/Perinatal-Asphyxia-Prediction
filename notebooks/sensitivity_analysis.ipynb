{
 "cells": [
  {
   "cell_type": "code",
   "execution_count": null,
   "id": "8aa1a316",
   "metadata": {},
   "outputs": [],
   "source": [
    "# Title: Sensitivity Analysis for Prediction of Perinatal Asphyxia\n",
    "# Author: Cephas Ekow Biney\n",
    "# Institution: Kwame Nkrumah University of Science and Technology (KNUST)\n",
    "# Date: 6th October, 2025.\n",
    "# Description: \n",
    "#               This notebook shows the sensitivty analysis conducted to observe\n",
    "#               the variations across the subsets of the dataset."
   ]
  },
  {
   "cell_type": "code",
   "execution_count": null,
   "id": "2e0edb70",
   "metadata": {},
   "outputs": [],
   "source": [
    "# Library Used\n",
    "import pandas as pd\n",
    "import numpy as np\n",
    "import seaborn as sns\n",
    "import matplotlib.pyplot as plt\n",
    "from sklearn.linear_model import LogisticRegression\n",
    "from sklearn.ensemble import RandomForestClassifier\n",
    "from sklearn.svm import SVC\n",
    "from sklearn.tree import DecisionTreeClassifier\n",
    "from xgboost import XGBClassifier\n",
    "from sklearn.model_selection import train_test_split, cross_val_score, GridSearchCV, RandomizedSearchCV\n",
    "from sklearn.metrics import confusion_matrix\n",
    "from sklearn.metrics import accuracy_score, f1_score, precision_score, recall_score, roc_auc_score, roc_curve, auc\n"
   ]
  },
  {
   "cell_type": "code",
   "execution_count": null,
   "id": "fff234be",
   "metadata": {},
   "outputs": [],
   "source": [
    "# Number of subsets\n",
    "n_splits = 10\n",
    "metrics = []"
   ]
  },
  {
   "cell_type": "code",
   "execution_count": null,
   "id": "5b233855",
   "metadata": {},
   "outputs": [],
   "source": [
    "for i in range(n_splits):\n",
    "    # Initializing random subsets (10% of data)\n",
    "    X_subset, _, y_subset, _ = train_test_split(X, y, test_size=0.9, stratify=y, random_state=i)\n",
    "\n",
    "    # Splitting into train-test\n",
    "    X_train, X_test, y_train, y_test = train_test_split(X_subset, y_subset, test_size=0.2, random_state=i)\n",
    "\n",
    "    # Using Random Forest with recall optimization\n",
    "    model = RandomForestClassifier(\n",
    "        n_estimators=500,            # Increase number of trees for stability\n",
    "        criterion=\"gini\",\n",
    "        max_depth=None,               # Allow deep trees\n",
    "        min_samples_split=2,          # Allow more splits\n",
    "        min_samples_leaf=1,           # Allow small leaves\n",
    "        class_weight=\"balanced\",      # Adjust for class imbalance\n",
    "        random_state=i\n",
    "    )\n",
    "    \n",
    "    # Training the model\n",
    "    model.fit(X_train, y_train)\n",
    "\n",
    "    # Making predictions\n",
    "    y_prob = model.predict_proba(X_test)[:, 1]  # Probability scores\n",
    "    y_pred = (y_prob >= 0.4).astype(int)  # Lower threshold to 0.4 for better recall\n",
    "\n",
    "    # Computing metrics\n",
    "    metrics.append({\n",
    "        \"Subset\": i + 1,\n",
    "        \"Accuracy\": accuracy_score(y_test, y_pred),\n",
    "        \"Precision\": precision_score(y_test, y_pred),\n",
    "        \"Recall\": recall_score(y_test, y_pred),\n",
    "        \"F1-score\": f1_score(y_test, y_pred),\n",
    "        \"AUC\": roc_auc_score(y_test, y_prob)\n",
    "    })\n"
   ]
  },
  {
   "cell_type": "code",
   "execution_count": null,
   "id": "46cf3daf",
   "metadata": {},
   "outputs": [],
   "source": [
    "# Converting results to a DataFrame\n",
    "results_df = pd.DataFrame(metrics)\n",
    "print(results_df)\n",
    "\n",
    "# Computing mean metrics\n",
    "mean_metrics = results_df.mean(numeric_only=True)\n",
    "\n",
    "print(\"\\nMean of Metrics:\")\n",
    "print(mean_metrics)"
   ]
  },
  {
   "cell_type": "code",
   "execution_count": null,
   "id": "b5b8f4fe",
   "metadata": {},
   "outputs": [],
   "source": []
  }
 ],
 "metadata": {
  "language_info": {
   "name": "python"
  }
 },
 "nbformat": 4,
 "nbformat_minor": 5
}
